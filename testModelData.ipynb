{
 "cells": [
  {
   "cell_type": "code",
   "execution_count": 1,
   "metadata": {},
   "outputs": [],
   "source": [
    "from modelData import ModelData"
   ]
  },
  {
   "cell_type": "code",
   "execution_count": 2,
   "metadata": {},
   "outputs": [],
   "source": [
    "sigmaVfile = './taacs.csv'\n",
    "paramCard = './param_card.dat'"
   ]
  },
  {
   "cell_type": "code",
   "execution_count": 3,
   "metadata": {},
   "outputs": [],
   "source": [
    "m = ModelData(dmPDG = 57, bsmPDGList= [57,1000005], paramCard=paramCard,sigmaVfile=sigmaVfile)"
   ]
  },
  {
   "cell_type": "code",
   "execution_count": 4,
   "metadata": {},
   "outputs": [
    {
     "name": "stdout",
     "output_type": "stream",
     "text": [
      "Model : SM + xd(DM) + b1\n"
     ]
    }
   ],
   "source": [
    "print(m)"
   ]
  },
  {
   "cell_type": "code",
   "execution_count": 5,
   "metadata": {},
   "outputs": [
    {
     "name": "stdout",
     "output_type": "stream",
     "text": [
      "0 SM 0.0\n",
      "57 xd 500.0\n",
      "1000005 b1 1000.0\n"
     ]
    }
   ],
   "source": [
    "for pdg,comp in m.componentsDict.items():\n",
    "    print(pdg,comp.label,comp.mass)"
   ]
  },
  {
   "cell_type": "code",
   "execution_count": 6,
   "metadata": {},
   "outputs": [
    {
     "name": "stdout",
     "output_type": "stream",
     "text": [
      "0.27765663383153705 0.27765663383153705\n"
     ]
    }
   ],
   "source": [
    "smComp = m.componentsDict[0]\n",
    "print(smComp.Yeq(0.001),smComp.Yeq(100.0))"
   ]
  },
  {
   "cell_type": "code",
   "execution_count": 7,
   "metadata": {},
   "outputs": [
    {
     "name": "stdout",
     "output_type": "stream",
     "text": [
      "xdxdx_bbx:(57, 57) -> (0, 0) 4.4346e-21\n",
      "xdxdx_ttx:(57, 57) -> (0, 0) 4.4346e-21\n",
      "xdxdx_b1b1x:(57, 57) -> (1000005, 1000005) 0.0\n",
      "b1xd_gb:(57, 1000005) -> (0, 0) 3.2097e-15\n",
      "b1xxdx_gbx:(57, 1000005) -> (0, 0) 3.2097e-15\n",
      "b1xd_ab:(57, 1000005) -> (0, 0) 3.2097e-15\n",
      "b1xxdx_abx:(57, 1000005) -> (0, 0) 3.2097e-15\n",
      "b1xd_bz:(57, 1000005) -> (0, 0) 3.2097e-15\n",
      "b1xxdx_bxz:(57, 1000005) -> (0, 0) 3.2097e-15\n",
      "b1xd_twm:(57, 1000005) -> (0, 0) 3.2097e-15\n",
      "b1xxdx_txwp:(57, 1000005) -> (0, 0) 3.2097e-15\n",
      "b1b1x_bbx:(1000005, 1000005) -> (0, 0) 3.758e-09\n",
      "b1b1_bb:(1000005, 1000005) -> (0, 0) 3.758e-09\n",
      "b1xb1x_bxbx:(1000005, 1000005) -> (0, 0) 3.758e-09\n",
      "b1b1x_gg:(1000005, 1000005) -> (0, 0) 3.758e-09\n",
      "b1b1x_wpwm:(1000005, 1000005) -> (0, 0) 3.758e-09\n",
      "b1b1x_ga:(1000005, 1000005) -> (0, 0) 3.758e-09\n",
      "b1b1x_gz:(1000005, 1000005) -> (0, 0) 3.758e-09\n",
      "b1b1x_aa:(1000005, 1000005) -> (0, 0) 3.758e-09\n",
      "b1b1x_az:(1000005, 1000005) -> (0, 0) 3.758e-09\n",
      "b1b1x_ddx:(1000005, 1000005) -> (0, 0) 3.758e-09\n",
      "b1b1x_uux:(1000005, 1000005) -> (0, 0) 3.758e-09\n",
      "b1b1x_ssx:(1000005, 1000005) -> (0, 0) 3.758e-09\n",
      "b1b1x_ccx:(1000005, 1000005) -> (0, 0) 3.758e-09\n",
      "b1b1x_ttx:(1000005, 1000005) -> (0, 0) 3.758e-09\n",
      "b1b1x_zz:(1000005, 1000005) -> (0, 0) 3.758e-09\n",
      "b1b1x_emep:(1000005, 1000005) -> (0, 0) 3.758e-09\n",
      "b1b1x_tamtap:(1000005, 1000005) -> (0, 0) 3.758e-09\n",
      "b1b1x_vevex:(1000005, 1000005) -> (0, 0) 3.758e-09\n",
      "b1b1x_zh:(1000005, 1000005) -> (0, 0) 3.758e-09\n",
      "b1b1x_xdxdx:(1000005, 1000005) -> (57, 57) 0.0\n"
     ]
    }
   ],
   "source": [
    "for process in m.collisionProcesses:\n",
    "    print(process, process.sigmaV(1.0))  "
   ]
  },
  {
   "cell_type": "code",
   "execution_count": null,
   "metadata": {},
   "outputs": [],
   "source": []
  }
 ],
 "metadata": {
  "kernelspec": {
   "display_name": "Python 3",
   "language": "python",
   "name": "python3"
  },
  "language_info": {
   "codemirror_mode": {
    "name": "ipython",
    "version": 3
   },
   "file_extension": ".py",
   "mimetype": "text/x-python",
   "name": "python",
   "nbconvert_exporter": "python",
   "pygments_lexer": "ipython3",
   "version": "3.12.7"
  }
 },
 "nbformat": 4,
 "nbformat_minor": 2
}
