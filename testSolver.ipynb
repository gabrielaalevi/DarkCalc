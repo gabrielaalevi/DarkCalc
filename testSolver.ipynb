{
 "cells": [
  {
   "cell_type": "code",
   "execution_count": 1,
   "metadata": {},
   "outputs": [],
   "source": [
    "from modelData import ModelData\n",
    "from boltz.boltzmannEq import dYdx, computeCollisionTerms,computeDecayTerms\n",
    "from scipy.integrate import solve_ivp,odeint\n",
    "import numpy as np\n",
    "from matplotlib import pyplot as plt\n",
    "from tools.configParserWrapper import ConfigParserExt\n",
    "import os\n",
    "from tools.logger import setLogLevel"
   ]
  },
  {
   "cell_type": "markdown",
   "metadata": {},
   "source": [
    "### Load input parameters"
   ]
  },
  {
   "cell_type": "code",
   "execution_count": 2,
   "metadata": {},
   "outputs": [],
   "source": [
    "parfile = './input_parameters_CDFO.ini'\n",
    "parser = ConfigParserExt(inline_comment_prefixes=\"#\")   \n",
    "ret = parser.read(parfile)\n",
    "parser = parser.expandLoops()[0]\n",
    "parserDict = parser.toDict(raw=False)"
   ]
  },
  {
   "cell_type": "code",
   "execution_count": 3,
   "metadata": {},
   "outputs": [],
   "source": [
    "pars = parser['SolverParameters']\n",
    "atol = pars['atol']\n",
    "rtol = pars['rtol']\n",
    "T0 = pars['T0']\n",
    "Tf = pars['Tf']\n",
    "method = pars['method']\n",
    "nsteps = pars['nsteps']\n",
    "outputFolder = os.path.abspath(parser['Options']['outputFolder'])\n",
    "paramCard = os.path.join(outputFolder,'Cards','param_card.dat')\n",
    "sigmaVFile = os.path.join(outputFolder,'output','taacs.csv')\n",
    "dm = parser['Model']['darkmatter']\n",
    "bsmList = []\n",
    "if 'bsmParticles' in parser['Model']:\n",
    "    bsmList = str(parser['Model']['bsmParticles']).split(',')\n",
    "model = ModelData(dmPDG=dm, bsmPDGList=bsmList, paramCard=paramCard, sigmaVfile=sigmaVFile)\n",
    "    \n",
    "\n",
    "compDict = model.componentsDict\n",
    "mDM = compDict[model.dmPDG].mass\n",
    "x0 = mDM/T0\n",
    "xf = mDM/Tf    \n",
    "\n",
    "# Remove decays:\n",
    "for comp in compDict.values():\n",
    "    comp.totalwidth = 0.0\n"
   ]
  },
  {
   "cell_type": "code",
   "execution_count": 4,
   "metadata": {},
   "outputs": [],
   "source": [
    "# Set initila conditions\n",
    "# Initialize all components in equilibrium\n",
    "y0 = np.array([comp.Yeq(T0) for comp in compDict.values()])    \n",
    "if 'initialConditions' in pars:\n",
    "    # Set initila conditions\n",
    "    initialCond = pars['initialConditions']    \n",
    "    for label,comp_y0 in initialCond.items():\n",
    "        pdg = model.convert2PDG(label)\n",
    "        comp = compDict[pdg]            \n",
    "        if isinstance(comp_y0,float):\n",
    "            y0[comp.ID] = y0\n",
    "        elif comp_y0.lower() in ['eq', 'equilibrium']:\n",
    "            continue # Already set    \n",
    "xvals = np.linspace(x0,xf,nsteps)"
   ]
  },
  {
   "cell_type": "code",
   "execution_count": 5,
   "metadata": {},
   "outputs": [],
   "source": [
    "# Initial conditions\n",
    "x0, xf = 0.5,10.0\n",
    "setLogLevel('info')"
   ]
  },
  {
   "cell_type": "markdown",
   "metadata": {},
   "source": [
    "### Check terms in initial conditions"
   ]
  },
  {
   "cell_type": "code",
   "execution_count": 6,
   "metadata": {},
   "outputs": [
    {
     "name": "stdout",
     "output_type": "stream",
     "text": [
      "SM 0.2776566338315371 0.27765663383153705\n",
      "b2 0.015605993470625036 0.015605993470625034\n",
      "xm 0.003901498367656259 0.0039014983676562585\n"
     ]
    }
   ],
   "source": [
    "for comp in compDict.values():\n",
    "    print(comp,y0[comp.ID],comp.Yeq(mDM/x0))"
   ]
  },
  {
   "cell_type": "code",
   "execution_count": 7,
   "metadata": {},
   "outputs": [
    {
     "name": "stdout",
     "output_type": "stream",
     "text": [
      "[{}, {'b2xm_gb': np.float64(2.580345043887885e-31), 'b2xxm_gbx': np.float64(2.580345043887885e-31), 'b2xm_ab': np.float64(2.580345043887885e-31), 'b2xxm_abx': np.float64(2.580345043887885e-31), 'b2xm_bz': np.float64(2.580345043887885e-31), 'b2xxm_bxz': np.float64(2.580345043887885e-31), 'b2xm_twm': np.float64(2.580345043887885e-31), 'b2xxm_txwp': np.float64(2.580345043887885e-31), 'b2b2x_bbx': np.float64(3.114269438746475e-29), 'b2b2_bb': np.float64(3.114269438746475e-29), 'b2xb2x_bxbx': np.float64(3.114269438746475e-29), 'b2b2x_gg': np.float64(3.114269438746475e-29), 'b2b2x_ga': np.float64(3.114269438746475e-29), 'b2b2x_gz': np.float64(3.114269438746475e-29), 'b2b2x_aa': np.float64(3.114269438746475e-29), 'b2b2x_az': np.float64(3.114269438746475e-29), 'b2b2x_ddx': np.float64(3.114269438746475e-29), 'b2b2x_uux': np.float64(3.114269438746475e-29), 'b2b2x_ssx': np.float64(3.114269438746475e-29), 'b2b2x_ccx': np.float64(3.114269438746475e-29), 'b2b2x_ttx': np.float64(3.114269438746475e-29), 'b2b2x_zz': np.float64(3.114269438746475e-29), 'b2b2x_emep': np.float64(3.114269438746475e-29), 'b2b2x_wpwm': np.float64(3.114269438746475e-29), 'b2b2x_tamtap': np.float64(3.114269438746475e-29), 'b2b2x_vevex': np.float64(3.114269438746475e-29), 'b2b2x_zh': np.float64(3.114269438746475e-29)}, {'xmxm_bbx': np.float64(6.556974448289785e-33), 'xmxm_ttx': np.float64(6.556974448289785e-33), 'b2xm_gb': np.float64(2.580345043887885e-31), 'b2xxm_gbx': np.float64(2.580345043887885e-31), 'b2xm_ab': np.float64(2.580345043887885e-31), 'b2xxm_abx': np.float64(2.580345043887885e-31), 'b2xm_bz': np.float64(2.580345043887885e-31), 'b2xxm_bxz': np.float64(2.580345043887885e-31), 'b2xm_twm': np.float64(2.580345043887885e-31), 'b2xxm_txwp': np.float64(2.580345043887885e-31)}]\n",
      "[[0. 0. 0.]\n",
      " [0. 0. 0.]\n",
      " [0. 0. 0.]]\n"
     ]
    }
   ],
   "source": [
    "coll = computeCollisionTerms(x0,y0,model)\n",
    "dec = computeDecayTerms(x0,y0,model)\n",
    "print(coll)\n",
    "print(dec)"
   ]
  },
  {
   "cell_type": "code",
   "execution_count": 8,
   "metadata": {},
   "outputs": [
    {
     "name": "stdout",
     "output_type": "stream",
     "text": [
      "Process xmxm_bbx : sigmav = 3.870554545454545e-12\n",
      "Process xmxm_ttx : sigmav = 3.870554545454545e-12\n",
      "Process xmxm_b2b2x : sigmav = 0.0\n",
      "Process b2xm_gb : sigmav = 3.807917171717172e-11\n",
      "Process b2xxm_gbx : sigmav = 3.807917171717172e-11\n",
      "Process b2xm_ab : sigmav = 3.807917171717172e-11\n",
      "Process b2xxm_abx : sigmav = 3.807917171717172e-11\n",
      "Process b2xm_bz : sigmav = 3.807917171717172e-11\n",
      "Process b2xxm_bxz : sigmav = 3.807917171717172e-11\n",
      "Process b2xm_twm : sigmav = 3.807917171717172e-11\n",
      "Process b2xxm_txwp : sigmav = 3.807917171717172e-11\n",
      "Process b2b2x_bbx : sigmav = 1.1489626262626262e-09\n",
      "Process b2b2_bb : sigmav = 1.1489626262626262e-09\n",
      "Process b2xb2x_bxbx : sigmav = 1.1489626262626262e-09\n",
      "Process b2b2x_gg : sigmav = 1.1489626262626262e-09\n",
      "Process b2b2x_ga : sigmav = 1.1489626262626262e-09\n",
      "Process b2b2x_gz : sigmav = 1.1489626262626262e-09\n",
      "Process b2b2x_aa : sigmav = 1.1489626262626262e-09\n",
      "Process b2b2x_az : sigmav = 1.1489626262626262e-09\n",
      "Process b2b2x_ddx : sigmav = 1.1489626262626262e-09\n",
      "Process b2b2x_uux : sigmav = 1.1489626262626262e-09\n",
      "Process b2b2x_ssx : sigmav = 1.1489626262626262e-09\n",
      "Process b2b2x_ccx : sigmav = 1.1489626262626262e-09\n",
      "Process b2b2x_ttx : sigmav = 1.1489626262626262e-09\n",
      "Process b2b2x_zz : sigmav = 1.1489626262626262e-09\n",
      "Process b2b2x_emep : sigmav = 1.1489626262626262e-09\n",
      "Process b2b2x_wpwm : sigmav = 1.1489626262626262e-09\n",
      "Process b2b2x_tamtap : sigmav = 1.1489626262626262e-09\n",
      "Process b2b2x_vevex : sigmav = 1.1489626262626262e-09\n",
      "Process b2b2x_zh : sigmav = 1.1489626262626262e-09\n",
      "Process b2b2x_xmxm : sigmav = 0.0\n"
     ]
    }
   ],
   "source": [
    "for process in model.collisionProcesses:\n",
    "    sigma = process.sigmaV(x0)\n",
    "    print(f'Process {process.name} : sigmav = {sigma}')"
   ]
  },
  {
   "cell_type": "markdown",
   "metadata": {},
   "source": [
    "### Solve equations"
   ]
  },
  {
   "cell_type": "code",
   "execution_count": 9,
   "metadata": {},
   "outputs": [],
   "source": [
    "xvals = np.linspace(x0,xf,25)\n",
    "#solving the Boltzmann equation\n",
    "sol = solve_ivp(dYdx, [x0,xf], y0, args=(model,), atol = atol, rtol = rtol, method='BDF')\n",
    "# sol = solve_ivp(dYdx, [x0,xf], y0, args=(model,), atol = atol, rtol = rtol, method='LSODA', max_step = 0.01)\n",
    "# Yf_sol = [y0]\n",
    "# for x in xvals[1:]:\n",
    "#     Yf_sol.append(solve_ivp(dYdx, [x0,x], y0, args=(model,), atol = atol, rtol = rtol, method='BDF').y[-1])\n",
    "#     y0 = Yf_sol[-1]\n",
    "#     x0 = x\n",
    "# Yf_sol = np.array(Yf_sol).transpose()\n",
    "\n",
    "# from scipy import integrate\n",
    "# ode15s = integrate.ode(dYdx)\n",
    "# ode15s.set_integrator('vode', method='bdf', order=15)\n",
    "# ode15s.set_initial_value(y0, x0)\n",
    "# ode15s.set_f_params(model)\n",
    "\n",
    "# Yf_sol = [y0]\n",
    "# print(Yf_sol)\n",
    "# for x in xvals[5:]:\n",
    "#     print(x,ode15s.integrate(x))\n",
    "#     break\n",
    "    # Yf_sol.append(ode15s.integrate(x))\n",
    "# Yf_sol = np.array(Yf_sol).transpose()"
   ]
  },
  {
   "cell_type": "code",
   "execution_count": 34,
   "metadata": {},
   "outputs": [
    {
     "data": {
      "text/plain": [
       "(0.5000000022346004, array([0.27765663, 0.01560599, 0.007803  ]), 0, False)"
      ]
     },
     "execution_count": 34,
     "metadata": {},
     "output_type": "execute_result"
    }
   ],
   "source": [
    "ode15s.t,ode15s.y,ode15s.stiff,ode15s.successful()"
   ]
  },
  {
   "cell_type": "code",
   "execution_count": 10,
   "metadata": {},
   "outputs": [
    {
     "data": {
      "text/plain": [
       "  message: Required step size is less than spacing between numbers.\n",
       "  success: False\n",
       "   status: -1\n",
       "        t: [ 5.000e-01  5.000e-01 ...  6.536e-01  6.536e-01]\n",
       "        y: [[ 2.777e-01  2.777e-01 ...  2.777e-01  2.777e-01]\n",
       "            [ 1.561e-02  1.561e-02 ...  1.561e-02  1.561e-02]\n",
       "            [ 3.901e-03  3.901e-03 ...  3.901e-03  3.901e-03]]\n",
       "      sol: None\n",
       " t_events: None\n",
       " y_events: None\n",
       "     nfev: 246\n",
       "     njev: 28\n",
       "      nlu: 81"
      ]
     },
     "execution_count": 10,
     "metadata": {},
     "output_type": "execute_result"
    }
   ],
   "source": [
    "sol"
   ]
  },
  {
   "cell_type": "code",
   "execution_count": 11,
   "metadata": {},
   "outputs": [
    {
     "data": {
      "text/plain": [
       "(3, 62)"
      ]
     },
     "execution_count": 11,
     "metadata": {},
     "output_type": "execute_result"
    }
   ],
   "source": [
    "sol.y.shape\n",
    "\n",
    "# Yf_sol.shape"
   ]
  },
  {
   "cell_type": "code",
   "execution_count": 12,
   "metadata": {},
   "outputs": [
    {
     "data": {
      "image/png": "[encoded data removed]",
      "text/plain": [
       "<Figure size 640x480 with 1 Axes>"
      ]
     },
     "metadata": {},
     "output_type": "display_data"
    }
   ],
   "source": [
    "Tvals = mDM/xvals\n",
    "for comp in compDict.values():\n",
    "    if comp.ID == 0: continue\n",
    "    # plt.plot(sol.t,sol.y[comp.ID,:],label=f'Y({comp.label})')\n",
    "    Yeq = [comp.Yeq(t) for t in Tvals]\n",
    "    plt.plot(xvals,Yf_sol[comp.ID,:],label=f'Y({comp.label})')\n",
    "    plt.plot(xvals,Yeq,label=f'Yeq({comp.label})', linestyle='dashed')\n",
    "\n",
    "plt.legend()\n",
    "plt.yscale('log')\n",
    "plt.xscale('log')\n",
    "# plt.ylim(1e-10,1e-1)\n",
    "# plt.ylim(1e-4,10)\n",
    "plt.grid()\n",
    "# plt.title(r'$Y_{f} = $%1.3e (from dYdx), %1.3e (from dGdx)' %(Y_sol0[-1][0],Y_sol[-1][0]))\n",
    "plt.show()"
   ]
  },
  {
   "cell_type": "code",
   "execution_count": 13,
   "metadata": {},
   "outputs": [
    {
     "data": {
      "image/png": "[encoded data removed]",
      "text/plain": [
       "<Figure size 640x480 with 1 Axes>"
      ]
     },
     "metadata": {},
     "output_type": "display_data"
    }
   ],
   "source": [
    "# sigmaV = np.array([sum([process.sigmaV(t) for process in model.collisionProcesses]) for t in Tvals])\n",
    "# sigmaV = sigmaV/np.mean(sigmaV)\n",
    "dY = np.array([dYdx(x,Yf_sol[:,i],model) for i,x in enumerate(xvals)]).transpose()\n",
    "for comp in compDict.values():\n",
    "    if comp.ID == 0: continue\n",
    "    # plt.plot(sol.t,sol.y[comp.ID,:],label=f'Y({comp.label})')\n",
    "    # plt.plot(xvals,Yf_sol[comp.ID,:],label=f'Y({comp.label})', marker='o')\n",
    "    # Yeq = [comp.Yeq(t) for t in Tvals]        \n",
    "    # plt.plot(xvals,dY[comp.ID,:],label=f'dY({comp.label})', marker='o')\n",
    "    plt.plot(xvals,dY[comp.ID,:]/Yf_sol[comp.ID,:],label=f'dY/Y({comp.label})', marker='o')\n",
    "    # plt.plot(sol.t,sigmaV,label=f'sigmaV', marker='o')\n",
    "plt.vlines(x=0.7,ymin=-0.01,ymax=0.02,colors='gray')\n",
    "plt.legend()\n",
    "# plt.yscale('log')\n",
    "plt.xscale('log')\n",
    "# plt.xlim(0.1,0.2)\n",
    "# plt.ylim(1e-10,1e-1)\n",
    "# plt.ylim(1e-8,1e8)\n",
    "plt.grid()\n",
    "# plt.title(r'$Y_{f} = $%1.3e (from dYdx), %1.3e (from dGdx)' %(Y_sol0[-1][0],Y_sol[-1][0]))\n",
    "plt.show()"
   ]
  },
  {
   "cell_type": "code",
   "execution_count": 14,
   "metadata": {},
   "outputs": [
    {
     "name": "stdout",
     "output_type": "stream",
     "text": [
      "SM coll(x=0.1) = 0.000e+00, (Y-Yeq)/Yeq = 0.0\n",
      "b1 coll(x=0.1) = 0.000e+00, (Y-Yeq)/Yeq = 0.0\n",
      "xd coll(x=0.1) = 0.000e+00, (Y-Yeq)/Yeq = 0.0\n",
      "[0.27765663 0.01560599 0.007803  ]\n",
      "[0. 0. 0.]\n"
     ]
    }
   ],
   "source": [
    "i = 0\n",
    "coll = computeCollisionTerms(xvals[i],Yf_sol[:,i],model)\n",
    "dec = computeDecayTerms(xvals[i],Yf_sol[:,i],model)\n",
    "for comp in compDict.values():\n",
    "    print(f'{comp} coll(x={xvals[i]:1.1g}) = {sum(coll[comp.ID].values()):1.3e}, (Y-Yeq)/Yeq = {(Yf_sol[comp.ID,i] - comp.Yeq(mDM/xvals[i]))/comp.Yeq(mDM/xvals[i])}')\n",
    "# print(dec)\n",
    "print(Yf_sol[:,i])\n",
    "print(dYdx(xvals[i],Yf_sol[:,i],model))"
   ]
  },
  {
   "cell_type": "code",
   "execution_count": 15,
   "metadata": {},
   "outputs": [
    {
     "name": "stdout",
     "output_type": "stream",
     "text": [
      "SM coll(x=0.1) = 0.000e+00, (Y-Yeq)/Yeq = 0.0\n",
      "b1 coll(x=0.1) = 3.446e-19, (Y-Yeq)/Yeq = -3.728361381784935e-08\n",
      "xd coll(x=0.1) = -2.954e-41, (Y-Yeq)/Yeq = 1.1115751645302526e-16\n",
      "[0.27765663 0.01560599 0.007803  ]\n",
      "[ 0.00000000e+00  5.97124311e+04 -5.11886714e-18]\n"
     ]
    }
   ],
   "source": [
    "i = 1\n",
    "coll = computeCollisionTerms(xvals[i],Yf_sol[:,i],model)\n",
    "dec = computeDecayTerms(xvals[i],Yf_sol[:,i],model)\n",
    "for comp in compDict.values():\n",
    "    print(f'{comp} coll(x={xvals[i]:1.1g}) = {sum(coll[comp.ID].values()):1.3e}, (Y-Yeq)/Yeq = {(Yf_sol[comp.ID,i] - comp.Yeq(mDM/xvals[i]))/comp.Yeq(mDM/xvals[i])}')\n",
    "# print(dec)\n",
    "print(Yf_sol[:,i])\n",
    "print(dYdx(xvals[i],Yf_sol[:,i],model))"
   ]
  },
  {
   "cell_type": "code",
   "execution_count": 16,
   "metadata": {},
   "outputs": [
    {
     "name": "stdout",
     "output_type": "stream",
     "text": [
      "SM coll(x=0.6) = 0.000e+00, (Y-Yeq)/Yeq = 0.0\n",
      "b1 coll(x=0.6) = -1.139e-19, (Y-Yeq)/Yeq = 8.818890432774174e-09\n",
      "xd coll(x=0.6) = -4.419e-26, (Y-Yeq)/Yeq = 1.1115751645302526e-16\n",
      "[0.27765663 0.01560599 0.007803  ]\n",
      "[ 0.00000000e+00 -9.55100039e+02 -3.70558682e-04]\n"
     ]
    }
   ],
   "source": [
    "i = 14\n",
    "coll = computeCollisionTerms(xvals[i],Yf_sol[:,i],model)\n",
    "dec = computeDecayTerms(xvals[i],Yf_sol[:,i],model)\n",
    "for comp in compDict.values():\n",
    "    print(f'{comp} coll(x={xvals[i]:1.1g}) = {sum(coll[comp.ID].values()):1.3e}, (Y-Yeq)/Yeq = {(Yf_sol[comp.ID,i] - comp.Yeq(mDM/xvals[i]))/comp.Yeq(mDM/xvals[i])}')\n",
    "# print(dec)\n",
    "print(Yf_sol[:,i])\n",
    "print(dYdx(xvals[i],Yf_sol[:,i],model))"
   ]
  },
  {
   "cell_type": "code",
   "execution_count": 17,
   "metadata": {},
   "outputs": [
    {
     "name": "stdout",
     "output_type": "stream",
     "text": [
      "SM coll(x=0.7) = 0.000e+00, (Y-Yeq)/Yeq = 0.0\n",
      "b1 coll(x=0.7) = -2.901e-12, (Y-Yeq)/Yeq = 0.33585068739563345\n",
      "xd coll(x=0.7) = -1.357e-18, (Y-Yeq)/Yeq = 0.0\n",
      "[0.27765663 0.01560599 0.007803  ]\n",
      "[ 0.00000000e+00 -2.16502371e+10 -1.01258276e+04]\n"
     ]
    }
   ],
   "source": [
    "i = 15\n",
    "coll = computeCollisionTerms(xvals[i],Yf_sol[:,i],model)\n",
    "dec = computeDecayTerms(xvals[i],Yf_sol[:,i],model)\n",
    "for comp in compDict.values():\n",
    "    print(f'{comp} coll(x={xvals[i]:1.1g}) = {sum(coll[comp.ID].values()):1.3e}, (Y-Yeq)/Yeq = {(Yf_sol[comp.ID,i] - comp.Yeq(mDM/xvals[i]))/comp.Yeq(mDM/xvals[i])}')\n",
    "# print(dec)\n",
    "print(Yf_sol[:,i])\n",
    "print(dYdx(xvals[i],Yf_sol[:,i],model))"
   ]
  },
  {
   "cell_type": "code",
   "execution_count": 18,
   "metadata": {},
   "outputs": [
    {
     "name": "stdout",
     "output_type": "stream",
     "text": [
      "SM coll(x=0.7) = 0.000e+00, (Y-Yeq)/Yeq = 0.0\n",
      "b1 coll(x=0.7) = -3.047e-12, (Y-Yeq)/Yeq = 0.3510176952409676\n",
      "xd coll(x=0.7) = -1.524e-18, (Y-Yeq)/Yeq = 0.0050353476656235805\n",
      "[0.27765663 0.01560599 0.007803  ]\n",
      "[ 0.00000000e+00 -2.03713913e+10 -1.01865399e+04]\n"
     ]
    }
   ],
   "source": [
    "i = 16\n",
    "coll = computeCollisionTerms(xvals[i],Yf_sol[:,i],model)\n",
    "dec = computeDecayTerms(xvals[i],Yf_sol[:,i],model)\n",
    "for comp in compDict.values():\n",
    "    print(f'{comp} coll(x={xvals[i]:1.1g}) = {sum(coll[comp.ID].values()):1.3e}, (Y-Yeq)/Yeq = {(Yf_sol[comp.ID,i] - comp.Yeq(mDM/xvals[i]))/comp.Yeq(mDM/xvals[i])}')\n",
    "# print(dec)\n",
    "print(Yf_sol[:,i])\n",
    "print(dYdx(xvals[i],Yf_sol[:,i],model))"
   ]
  },
  {
   "cell_type": "code",
   "execution_count": 19,
   "metadata": {},
   "outputs": [
    {
     "data": {
      "text/plain": [
       "array([[0.27765663, 0.27765663, 0.27765663, 0.27765663, 0.27765663,\n",
       "        0.27765663, 0.27765663, 0.27765663, 0.27765663, 0.27765663,\n",
       "        0.27765663, 0.27765663, 0.27765663, 0.27765663, 0.27765663,\n",
       "        0.27765663, 0.27765663, 0.27765663, 0.27765663, 0.27765663,\n",
       "        0.27765663, 0.27765663, 0.27765663, 0.27765663, 0.27765663],\n",
       "       [0.01560599, 0.01560599, 0.01560599, 0.01560599, 0.01560599,\n",
       "        0.01560599, 0.01560599, 0.01560599, 0.01560599, 0.01560599,\n",
       "        0.01560599, 0.01560599, 0.01560599, 0.01560599, 0.01560599,\n",
       "        0.01560599, 0.01560599, 0.01560599, 0.015606  , 0.015606  ,\n",
       "        0.01560599, 0.01560599, 0.01560599, 0.01560599, 0.01560599],\n",
       "       [0.007803  , 0.007803  , 0.007803  , 0.007803  , 0.007803  ,\n",
       "        0.007803  , 0.007803  , 0.007803  , 0.007803  , 0.007803  ,\n",
       "        0.007803  , 0.007803  , 0.007803  , 0.007803  , 0.007803  ,\n",
       "        0.007803  , 0.007803  , 0.007803  , 0.007803  , 0.007803  ,\n",
       "        0.007803  , 0.007803  , 0.007803  , 0.007803  , 0.007803  ]])"
      ]
     },
     "execution_count": 19,
     "metadata": {},
     "output_type": "execute_result"
    }
   ],
   "source": [
    "Yf_sol"
   ]
  },
  {
   "cell_type": "code",
   "execution_count": null,
   "metadata": {},
   "outputs": [],
   "source": []
  }
 ],
 "metadata": {
  "kernelspec": {
   "display_name": "Python 3",
   "language": "python",
   "name": "python3"
  },
  "language_info": {
   "codemirror_mode": {
    "name": "ipython",
    "version": 3
   },
   "file_extension": ".py",
   "mimetype": "text/x-python",
   "name": "python",
   "nbconvert_exporter": "python",
   "pygments_lexer": "ipython3",
   "version": "3.12.3"
  }
 },
 "nbformat": 4,
 "nbformat_minor": 2
}
